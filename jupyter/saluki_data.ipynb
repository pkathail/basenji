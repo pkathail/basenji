{
 "cells": [
  {
   "cell_type": "code",
   "execution_count": 1,
   "metadata": {},
   "outputs": [],
   "source": [
    "import gzip\n",
    "import json\n",
    "import os\n",
    "import shutil\n",
    "\n",
    "import numpy as np\n",
    "import pandas as pd\n",
    "\n",
    "import matplotlib.pyplot as plt\n",
    "%matplotlib inline\n",
    "import seaborn as sns\n",
    "import tensorflow as tf\n",
    "import tensorflow_addons as tfa\n",
    "\n",
    "from basenji import dna_io"
   ]
  },
  {
   "cell_type": "code",
   "execution_count": 2,
   "metadata": {},
   "outputs": [],
   "source": [
    "np.random.seed(44)"
   ]
  },
  {
   "cell_type": "markdown",
   "metadata": {},
   "source": [
    "## Precursors"
   ]
  },
  {
   "cell_type": "code",
   "execution_count": 3,
   "metadata": {},
   "outputs": [],
   "source": [
    "gtf_file = '/home/drk/common/data/genomes/hg38/genes/gencode36/gencode.v36.basic.annotation.gtf.gz'\n",
    "utr3_fasta = '/home/drk/rnaml/analysis/1-27/V36.3UTRs.selectedTranscript.fa'\n",
    "utr5_fasta = '/home/drk/rnaml/analysis/1-27/V36.5UTRs.selectedTranscript.fa'\n",
    "orf_fasta = '/home/drk/rnaml/analysis/1-27/V36.ORFs.selectedTranscript.fa'\n",
    "\n",
    "stability_file = '/home/vagar/RNAbinding/transcript_isoform_analysis/Rinn_avg_K562.txt'\n",
    "features_file = '/home/vagar/RNAbinding/half_life/human/half_life_features.txt'"
   ]
  },
  {
   "cell_type": "code",
   "execution_count": 4,
   "metadata": {},
   "outputs": [],
   "source": [
    "def gtf_kv(s):\n",
    "    \"\"\"Convert the last gtf section of key/value pairs into a dict.\"\"\"\n",
    "    d = {}\n",
    "\n",
    "    a = s.split(';')\n",
    "    for key_val in a:\n",
    "        if key_val.strip():\n",
    "            eq_i = key_val.find('=')\n",
    "            if eq_i != -1 and key_val[eq_i-1] != '\"':\n",
    "                kvs = key_val.split('=')\n",
    "            else:\n",
    "                kvs = key_val.split()\n",
    "\n",
    "            key = kvs[0]\n",
    "            if kvs[1][0] == '\"' and kvs[-1][-1] == '\"':\n",
    "                val = (' '.join(kvs[1:]))[1:-1].strip()\n",
    "            else:\n",
    "                val = (' '.join(kvs[1:])).strip()\n",
    "\n",
    "            d[key] = val\n",
    "\n",
    "    return d"
   ]
  },
  {
   "cell_type": "code",
   "execution_count": 5,
   "metadata": {},
   "outputs": [],
   "source": [
    "def trim_dot(gene_id):\n",
    "    \"\"\"Trim the .xyz suffix from a GENCODE gene_id.\"\"\"\n",
    "    dot_i = gene_id.find('.')\n",
    "    if dot_i != -1:\n",
    "        gene_id = gene_id[:dot_i]\n",
    "    return gene_id"
   ]
  },
  {
   "cell_type": "code",
   "execution_count": 6,
   "metadata": {},
   "outputs": [],
   "source": [
    "def read_gene_fasta(fasta_file, trim_geneid=False):\n",
    "    \"\"\"Read gene sequences from FASTA into a dict.\"\"\"\n",
    "    if fasta_file[-3:] == '.gz':\n",
    "        fasta_open = gzip.open(fasta_file, 'rt')\n",
    "    else:\n",
    "        fasta_open = open(fasta_file, 'r')\n",
    "        \n",
    "    gene_seq = {}\n",
    "    for line in fasta_open:\n",
    "        if line[0] == '>':\n",
    "            gene = line[1:].rstrip()\n",
    "            if trim_geneid:\n",
    "                gene = trim_dot(gene)\n",
    "            gene_seq[gene] = ''\n",
    "        else:\n",
    "            gene_seq[gene] += line.rstrip()\n",
    "            \n",
    "    fasta_open.close()\n",
    "        \n",
    "    return gene_seq"
   ]
  },
  {
   "cell_type": "markdown",
   "metadata": {},
   "source": [
    "## Read stability measurements"
   ]
  },
  {
   "cell_type": "code",
   "execution_count": 7,
   "metadata": {},
   "outputs": [],
   "source": [
    "# read sample table\n",
    "stability_df = pd.read_csv(stability_file, sep='\\t', names=['Gene','Stability'])"
   ]
  },
  {
   "cell_type": "code",
   "execution_count": 9,
   "metadata": {},
   "outputs": [
    {
     "data": {
      "text/html": [
       "<div>\n",
       "<style scoped>\n",
       "    .dataframe tbody tr th:only-of-type {\n",
       "        vertical-align: middle;\n",
       "    }\n",
       "\n",
       "    .dataframe tbody tr th {\n",
       "        vertical-align: top;\n",
       "    }\n",
       "\n",
       "    .dataframe thead th {\n",
       "        text-align: right;\n",
       "    }\n",
       "</style>\n",
       "<table border=\"1\" class=\"dataframe\">\n",
       "  <thead>\n",
       "    <tr style=\"text-align: right;\">\n",
       "      <th></th>\n",
       "      <th>Gene</th>\n",
       "      <th>Name</th>\n",
       "      <th>Type</th>\n",
       "      <th>Stability</th>\n",
       "    </tr>\n",
       "  </thead>\n",
       "  <tbody>\n",
       "    <tr>\n",
       "      <th>0</th>\n",
       "      <td>ENSG00000000419</td>\n",
       "      <td>DPM1</td>\n",
       "      <td>protein_coding</td>\n",
       "      <td>11.198840</td>\n",
       "    </tr>\n",
       "    <tr>\n",
       "      <th>1</th>\n",
       "      <td>ENSG00000000457</td>\n",
       "      <td>SCYL3</td>\n",
       "      <td>protein_coding</td>\n",
       "      <td>1.878456</td>\n",
       "    </tr>\n",
       "    <tr>\n",
       "      <th>2</th>\n",
       "      <td>ENSG00000000460</td>\n",
       "      <td>C1orf112</td>\n",
       "      <td>protein_coding</td>\n",
       "      <td>4.654573</td>\n",
       "    </tr>\n",
       "    <tr>\n",
       "      <th>3</th>\n",
       "      <td>ENSG00000000971</td>\n",
       "      <td>CFH</td>\n",
       "      <td>protein_coding</td>\n",
       "      <td>14.485273</td>\n",
       "    </tr>\n",
       "    <tr>\n",
       "      <th>4</th>\n",
       "      <td>ENSG00000001036</td>\n",
       "      <td>FUCA2</td>\n",
       "      <td>protein_coding</td>\n",
       "      <td>10.422527</td>\n",
       "    </tr>\n",
       "  </tbody>\n",
       "</table>\n",
       "</div>"
      ],
      "text/plain": [
       "              Gene      Name            Type  Stability\n",
       "0  ENSG00000000419      DPM1  protein_coding  11.198840\n",
       "1  ENSG00000000457     SCYL3  protein_coding   1.878456\n",
       "2  ENSG00000000460  C1orf112  protein_coding   4.654573\n",
       "3  ENSG00000000971       CFH  protein_coding  14.485273\n",
       "4  ENSG00000001036     FUCA2  protein_coding  10.422527"
      ]
     },
     "execution_count": 9,
     "metadata": {},
     "output_type": "execute_result"
    }
   ],
   "source": [
    "# additional gene attributes\n",
    "\n",
    "gene_type = {}\n",
    "gene_name = {}\n",
    "for line in gzip.open(gtf_file, 'rt'):\n",
    "    a = line.split('\\t')\n",
    "    if len(a) > 8 and a[2] == 'gene':\n",
    "        kv = gtf_kv(a[8])\n",
    "        gene_id = trim_dot(kv['gene_id'])\n",
    "        gene_type[gene_id] = kv['gene_type']\n",
    "        gene_name[gene_id] = kv['gene_name']\n",
    "    \n",
    "stability_type = []\n",
    "stability_name = []\n",
    "for gene_id in stability_df.Gene:\n",
    "    if gene_id in gene_type:\n",
    "        stability_type.append(gene_type[gene_id])\n",
    "        stability_name.append(gene_name[gene_id])\n",
    "    else:\n",
    "        stability_type.append('depracated')\n",
    "        stability_name.append('NA')\n",
    "    \n",
    "stability_df['Name'] = stability_name\n",
    "stability_df['Type'] = stability_type\n",
    "stability_df = stability_df[['Gene','Name','Type','Stability']]\n",
    "stability_df.head()"
   ]
  },
  {
   "cell_type": "code",
   "execution_count": 10,
   "metadata": {},
   "outputs": [
    {
     "data": {
      "text/plain": [
       "Type\n",
       "protein_coding                        10500\n",
       "lncRNA                                  361\n",
       "depracated                              232\n",
       "transcribed_unprocessed_pseudogene       28\n",
       "transcribed_unitary_pseudogene            8\n",
       "transcribed_processed_pseudogene          4\n",
       "unprocessed_pseudogene                    3\n",
       "processed_pseudogene                      2\n",
       "dtype: int64"
      ]
     },
     "execution_count": 10,
     "metadata": {},
     "output_type": "execute_result"
    }
   ],
   "source": [
    "# count gene types\n",
    "stability_df.value_counts('Type')"
   ]
  },
  {
   "cell_type": "code",
   "execution_count": 11,
   "metadata": {},
   "outputs": [
    {
     "name": "stderr",
     "output_type": "stream",
     "text": [
      "findfont: Font family ['sans-serif'] not found. Falling back to DejaVu Sans.\n"
     ]
    },
    {
     "data": {
      "text/plain": [
       "<seaborn.axisgrid.FacetGrid at 0x7f25d506f5e0>"
      ]
     },
     "execution_count": 11,
     "metadata": {},
     "output_type": "execute_result"
    },
    {
     "data": {
      "image/png": "[encoded data removed]",
      "text/plain": [
       "<Figure size 637.25x288 with 1 Axes>"
      ]
     },
     "metadata": {
      "needs_background": "light"
     },
     "output_type": "display_data"
    }
   ],
   "source": [
    "# plot stability for mRNA versus rest\n",
    "sns.displot(x=np.sqrt(stability_df.Stability),\n",
    "            hue=(stability_df.Type=='protein_coding'),\n",
    "            kind='kde', aspect=2, height=4)"
   ]
  },
  {
   "cell_type": "code",
   "execution_count": 12,
   "metadata": {},
   "outputs": [],
   "source": [
    "# keep only mRNAs\n",
    "stability_df = stability_df[stability_df.Type=='protein_coding']\n",
    "del stability_df['Type']"
   ]
  },
  {
   "cell_type": "markdown",
   "metadata": {},
   "source": [
    "## Read UTRs"
   ]
  },
  {
   "cell_type": "code",
   "execution_count": 13,
   "metadata": {},
   "outputs": [
    {
     "name": "stdout",
     "output_type": "stream",
     "text": [
      "10628\n",
      "10539\n",
      "10499\n"
     ]
    }
   ],
   "source": [
    "gene_utr3 = read_gene_fasta(utr3_fasta)\n",
    "print(len(gene_utr3))\n",
    "\n",
    "gene_utr5 = read_gene_fasta(utr5_fasta)\n",
    "print(len(gene_utr5))\n",
    "\n",
    "gene_orf = read_gene_fasta(orf_fasta)\n",
    "print(len(gene_orf))"
   ]
  },
  {
   "cell_type": "code",
   "execution_count": 14,
   "metadata": {},
   "outputs": [
    {
     "data": {
      "text/plain": [
       "(10500, 7)"
      ]
     },
     "execution_count": 14,
     "metadata": {},
     "output_type": "execute_result"
    }
   ],
   "source": [
    "# construct gene table, with stability and transcript segment lengths\n",
    "\n",
    "stability_utr3 = []\n",
    "stability_utr5 = []\n",
    "stability_orf = []\n",
    "\n",
    "gene_seq = {}\n",
    "\n",
    "for gene in stability_df.Gene:\n",
    "    if gene in gene_utr5:\n",
    "        gene_seq[gene] = gene_utr5[gene]\n",
    "        stability_utr5.append(len(gene_utr5[gene]))\n",
    "    else:\n",
    "        stability_utr5.append(0)\n",
    "    if gene in gene_orf:\n",
    "        gene_seq[gene] = gene_seq.get(gene,'') + gene_orf[gene]\n",
    "        stability_orf.append(len(gene_orf[gene]))\n",
    "    else:\n",
    "        stability_orf.append(0)\n",
    "    if gene in gene_utr3:\n",
    "        gene_seq[gene] = gene_seq.get(gene,'') + gene_utr3[gene]\n",
    "        stability_utr3.append(len(gene_utr3[gene]))\n",
    "    else:\n",
    "        stability_utr3.append(0)\n",
    "        \n",
    "stability_df['UTR5'] = stability_utr5\n",
    "stability_df['ORF'] = stability_orf\n",
    "stability_df['UTR3'] = stability_utr3\n",
    "stability_df['Length'] = stability_df['UTR5'] + stability_df['ORF'] + stability_df['UTR3']\n",
    "stability_df.shape"
   ]
  },
  {
   "cell_type": "code",
   "execution_count": 15,
   "metadata": {},
   "outputs": [
    {
     "data": {
      "text/html": [
       "<div>\n",
       "<style scoped>\n",
       "    .dataframe tbody tr th:only-of-type {\n",
       "        vertical-align: middle;\n",
       "    }\n",
       "\n",
       "    .dataframe tbody tr th {\n",
       "        vertical-align: top;\n",
       "    }\n",
       "\n",
       "    .dataframe thead th {\n",
       "        text-align: right;\n",
       "    }\n",
       "</style>\n",
       "<table border=\"1\" class=\"dataframe\">\n",
       "  <thead>\n",
       "    <tr style=\"text-align: right;\">\n",
       "      <th></th>\n",
       "      <th>EXPRESSION</th>\n",
       "      <th>UTR5LEN</th>\n",
       "      <th>CDSLEN</th>\n",
       "      <th>INTRONLEN</th>\n",
       "      <th>UTR3LEN</th>\n",
       "      <th>UTR5GC</th>\n",
       "      <th>CDSGC</th>\n",
       "      <th>UTR3GC</th>\n",
       "      <th>ORFEXONDENSITY</th>\n",
       "    </tr>\n",
       "    <tr>\n",
       "      <th>ENSID</th>\n",
       "      <th></th>\n",
       "      <th></th>\n",
       "      <th></th>\n",
       "      <th></th>\n",
       "      <th></th>\n",
       "      <th></th>\n",
       "      <th></th>\n",
       "      <th></th>\n",
       "      <th></th>\n",
       "    </tr>\n",
       "  </thead>\n",
       "  <tbody>\n",
       "    <tr>\n",
       "      <th>ENSG00000000003</th>\n",
       "      <td>13.7465</td>\n",
       "      <td>111</td>\n",
       "      <td>728</td>\n",
       "      <td>5943</td>\n",
       "      <td>1354</td>\n",
       "      <td>0.625</td>\n",
       "      <td>0.412</td>\n",
       "      <td>0.368</td>\n",
       "      <td>9.62</td>\n",
       "    </tr>\n",
       "    <tr>\n",
       "      <th>ENSG00000000005</th>\n",
       "      <td>0.0120</td>\n",
       "      <td>216</td>\n",
       "      <td>944</td>\n",
       "      <td>13756</td>\n",
       "      <td>167</td>\n",
       "      <td>0.470</td>\n",
       "      <td>0.419</td>\n",
       "      <td>0.393</td>\n",
       "      <td>7.42</td>\n",
       "    </tr>\n",
       "    <tr>\n",
       "      <th>ENSG00000000419</th>\n",
       "      <td>42.1780</td>\n",
       "      <td>31</td>\n",
       "      <td>851</td>\n",
       "      <td>22542</td>\n",
       "      <td>264</td>\n",
       "      <td>0.000</td>\n",
       "      <td>0.435</td>\n",
       "      <td>0.262</td>\n",
       "      <td>11.75</td>\n",
       "    </tr>\n",
       "    <tr>\n",
       "      <th>ENSG00000000457</th>\n",
       "      <td>4.0455</td>\n",
       "      <td>220</td>\n",
       "      <td>2213</td>\n",
       "      <td>37814</td>\n",
       "      <td>638</td>\n",
       "      <td>0.613</td>\n",
       "      <td>0.450</td>\n",
       "      <td>0.369</td>\n",
       "      <td>5.87</td>\n",
       "    </tr>\n",
       "    <tr>\n",
       "      <th>ENSG00000000460</th>\n",
       "      <td>3.2680</td>\n",
       "      <td>697</td>\n",
       "      <td>2537</td>\n",
       "      <td>54345</td>\n",
       "      <td>1092</td>\n",
       "      <td>0.411</td>\n",
       "      <td>0.421</td>\n",
       "      <td>0.355</td>\n",
       "      <td>8.67</td>\n",
       "    </tr>\n",
       "    <tr>\n",
       "      <th>...</th>\n",
       "      <td>...</td>\n",
       "      <td>...</td>\n",
       "      <td>...</td>\n",
       "      <td>...</td>\n",
       "      <td>...</td>\n",
       "      <td>...</td>\n",
       "      <td>...</td>\n",
       "      <td>...</td>\n",
       "      <td>...</td>\n",
       "    </tr>\n",
       "    <tr>\n",
       "      <th>ENSG00000259399</th>\n",
       "      <td>75.4210</td>\n",
       "      <td>115</td>\n",
       "      <td>461</td>\n",
       "      <td>36923</td>\n",
       "      <td>332</td>\n",
       "      <td>0.658</td>\n",
       "      <td>0.509</td>\n",
       "      <td>0.450</td>\n",
       "      <td>8.68</td>\n",
       "    </tr>\n",
       "    <tr>\n",
       "      <th>ENSG00000259431</th>\n",
       "      <td>8.1710</td>\n",
       "      <td>735</td>\n",
       "      <td>688</td>\n",
       "      <td>1396</td>\n",
       "      <td>1430</td>\n",
       "      <td>0.620</td>\n",
       "      <td>0.586</td>\n",
       "      <td>0.545</td>\n",
       "      <td>2.91</td>\n",
       "    </tr>\n",
       "    <tr>\n",
       "      <th>ENSG00000259511</th>\n",
       "      <td>0.6085</td>\n",
       "      <td>11</td>\n",
       "      <td>390</td>\n",
       "      <td>9253</td>\n",
       "      <td>89</td>\n",
       "      <td>0.583</td>\n",
       "      <td>0.492</td>\n",
       "      <td>0.256</td>\n",
       "      <td>7.69</td>\n",
       "    </tr>\n",
       "    <tr>\n",
       "      <th>ENSG00000259571</th>\n",
       "      <td>0.0170</td>\n",
       "      <td>292</td>\n",
       "      <td>323</td>\n",
       "      <td>5</td>\n",
       "      <td>241</td>\n",
       "      <td>0.389</td>\n",
       "      <td>0.465</td>\n",
       "      <td>0.335</td>\n",
       "      <td>3.10</td>\n",
       "    </tr>\n",
       "    <tr>\n",
       "      <th>ENSG00000259680</th>\n",
       "      <td>0.0000</td>\n",
       "      <td>0</td>\n",
       "      <td>347</td>\n",
       "      <td>98</td>\n",
       "      <td>0</td>\n",
       "      <td>0.000</td>\n",
       "      <td>0.521</td>\n",
       "      <td>0.000</td>\n",
       "      <td>5.76</td>\n",
       "    </tr>\n",
       "  </tbody>\n",
       "</table>\n",
       "<p>18413 rows × 9 columns</p>\n",
       "</div>"
      ],
      "text/plain": [
       "                 EXPRESSION  UTR5LEN  CDSLEN  INTRONLEN  UTR3LEN  UTR5GC  \\\n",
       "ENSID                                                                      \n",
       "ENSG00000000003     13.7465      111     728       5943     1354   0.625   \n",
       "ENSG00000000005      0.0120      216     944      13756      167   0.470   \n",
       "ENSG00000000419     42.1780       31     851      22542      264   0.000   \n",
       "ENSG00000000457      4.0455      220    2213      37814      638   0.613   \n",
       "ENSG00000000460      3.2680      697    2537      54345     1092   0.411   \n",
       "...                     ...      ...     ...        ...      ...     ...   \n",
       "ENSG00000259399     75.4210      115     461      36923      332   0.658   \n",
       "ENSG00000259431      8.1710      735     688       1396     1430   0.620   \n",
       "ENSG00000259511      0.6085       11     390       9253       89   0.583   \n",
       "ENSG00000259571      0.0170      292     323          5      241   0.389   \n",
       "ENSG00000259680      0.0000        0     347         98        0   0.000   \n",
       "\n",
       "                 CDSGC  UTR3GC  ORFEXONDENSITY  \n",
       "ENSID                                           \n",
       "ENSG00000000003  0.412   0.368            9.62  \n",
       "ENSG00000000005  0.419   0.393            7.42  \n",
       "ENSG00000000419  0.435   0.262           11.75  \n",
       "ENSG00000000457  0.450   0.369            5.87  \n",
       "ENSG00000000460  0.421   0.355            8.67  \n",
       "...                ...     ...             ...  \n",
       "ENSG00000259399  0.509   0.450            8.68  \n",
       "ENSG00000259431  0.586   0.545            2.91  \n",
       "ENSG00000259511  0.492   0.256            7.69  \n",
       "ENSG00000259571  0.465   0.335            3.10  \n",
       "ENSG00000259680  0.521   0.000            5.76  \n",
       "\n",
       "[18413 rows x 9 columns]"
      ]
     },
     "execution_count": 15,
     "metadata": {},
     "output_type": "execute_result"
    }
   ],
   "source": [
    "# attach additional features\n",
    "\n",
    "features_df = pd.read_csv(features_file, sep='\\t')\n",
    "features_df.set_index('ENSID',inplace=True)\n",
    "features_df.head()"
   ]
  },
  {
   "cell_type": "code",
   "execution_count": 16,
   "metadata": {},
   "outputs": [
    {
     "data": {
      "text/plain": [
       "<seaborn.axisgrid.FacetGrid at 0x7f25cfa0cd00>"
      ]
     },
     "execution_count": 16,
     "metadata": {},
     "output_type": "execute_result"
    },
    {
     "data": {
      "image/png": "[encoded data removed]",
      "text/plain": [
       "<Figure size 720x360 with 1 Axes>"
      ]
     },
     "metadata": {
      "needs_background": "light"
     },
     "output_type": "display_data"
    }
   ],
   "source": [
    "# plot exon distributions\n",
    "sns.displot(np.sqrt(features_df.ORFEXONDENSITY), aspect=2)"
   ]
  },
  {
   "cell_type": "code",
   "execution_count": 17,
   "metadata": {},
   "outputs": [
    {
     "data": {
      "text/plain": [
       "0.9988051919839244"
      ]
     },
     "execution_count": 17,
     "metadata": {},
     "output_type": "execute_result"
    }
   ],
   "source": [
    "# choose threshold\n",
    "(np.sqrt(features_df.ORFEXONDENSITY) < 4.5).mean()"
   ]
  },
  {
   "cell_type": "code",
   "execution_count": 18,
   "metadata": {},
   "outputs": [],
   "source": [
    "# clip and attach features\n",
    "\n",
    "stability_exons = []\n",
    "\n",
    "for gene in stability_df.Gene:\n",
    "    if gene in features_df.index:\n",
    "        stability_exons.append(features_df.loc[gene].ORFEXONDENSITY)\n",
    "    else:\n",
    "        stability_exons.append(np.nan)\n",
    "\n",
    "stability_df['Exons'] = np.clip(np.sqrt(stability_exons), 0, 4.5)"
   ]
  },
  {
   "cell_type": "code",
   "execution_count": 19,
   "metadata": {},
   "outputs": [
    {
     "data": {
      "text/html": [
       "<div>\n",
       "<style scoped>\n",
       "    .dataframe tbody tr th:only-of-type {\n",
       "        vertical-align: middle;\n",
       "    }\n",
       "\n",
       "    .dataframe tbody tr th {\n",
       "        vertical-align: top;\n",
       "    }\n",
       "\n",
       "    .dataframe thead th {\n",
       "        text-align: right;\n",
       "    }\n",
       "</style>\n",
       "<table border=\"1\" class=\"dataframe\">\n",
       "  <thead>\n",
       "    <tr style=\"text-align: right;\">\n",
       "      <th></th>\n",
       "      <th>Gene</th>\n",
       "      <th>Name</th>\n",
       "      <th>Stability</th>\n",
       "      <th>UTR5</th>\n",
       "      <th>ORF</th>\n",
       "      <th>UTR3</th>\n",
       "      <th>Length</th>\n",
       "      <th>Exons</th>\n",
       "    </tr>\n",
       "  </thead>\n",
       "  <tbody>\n",
       "    <tr>\n",
       "      <th>27</th>\n",
       "      <td>ENSG00000004142</td>\n",
       "      <td>POLDIP2</td>\n",
       "      <td>11.613667</td>\n",
       "      <td>79</td>\n",
       "      <td>1107</td>\n",
       "      <td>1484</td>\n",
       "      <td>2670</td>\n",
       "      <td>NaN</td>\n",
       "    </tr>\n",
       "    <tr>\n",
       "      <th>347</th>\n",
       "      <td>ENSG00000037241</td>\n",
       "      <td>RPL26L1</td>\n",
       "      <td>9.188656</td>\n",
       "      <td>54</td>\n",
       "      <td>438</td>\n",
       "      <td>230</td>\n",
       "      <td>722</td>\n",
       "      <td>NaN</td>\n",
       "    </tr>\n",
       "    <tr>\n",
       "      <th>423</th>\n",
       "      <td>ENSG00000048544</td>\n",
       "      <td>MRPS10</td>\n",
       "      <td>9.618155</td>\n",
       "      <td>12</td>\n",
       "      <td>606</td>\n",
       "      <td>1482</td>\n",
       "      <td>2100</td>\n",
       "      <td>NaN</td>\n",
       "    </tr>\n",
       "    <tr>\n",
       "      <th>497</th>\n",
       "      <td>ENSG00000055950</td>\n",
       "      <td>MRPL43</td>\n",
       "      <td>5.005810</td>\n",
       "      <td>72</td>\n",
       "      <td>480</td>\n",
       "      <td>458</td>\n",
       "      <td>1010</td>\n",
       "      <td>NaN</td>\n",
       "    </tr>\n",
       "    <tr>\n",
       "      <th>553</th>\n",
       "      <td>ENSG00000061794</td>\n",
       "      <td>MRPS35</td>\n",
       "      <td>5.252778</td>\n",
       "      <td>12</td>\n",
       "      <td>972</td>\n",
       "      <td>845</td>\n",
       "      <td>1829</td>\n",
       "      <td>NaN</td>\n",
       "    </tr>\n",
       "  </tbody>\n",
       "</table>\n",
       "</div>"
      ],
      "text/plain": [
       "                Gene     Name  Stability  UTR5   ORF  UTR3  Length  Exons\n",
       "27   ENSG00000004142  POLDIP2  11.613667    79  1107  1484    2670    NaN\n",
       "347  ENSG00000037241  RPL26L1   9.188656    54   438   230     722    NaN\n",
       "423  ENSG00000048544   MRPS10   9.618155    12   606  1482    2100    NaN\n",
       "497  ENSG00000055950   MRPL43   5.005810    72   480   458    1010    NaN\n",
       "553  ENSG00000061794   MRPS35   5.252778    12   972   845    1829    NaN"
      ]
     },
     "execution_count": 19,
     "metadata": {},
     "output_type": "execute_result"
    }
   ],
   "source": [
    "# check\n",
    "stability_df.loc[np.isnan(stability_df.Exons)].head()"
   ]
  },
  {
   "cell_type": "code",
   "execution_count": 20,
   "metadata": {},
   "outputs": [],
   "source": [
    "# set NaNs to 0\n",
    "stability_df.Exons.fillna(np.nanmean(stability_df.Exons), inplace=True)"
   ]
  },
  {
   "cell_type": "markdown",
   "metadata": {},
   "source": [
    "## QC"
   ]
  },
  {
   "cell_type": "code",
   "execution_count": 21,
   "metadata": {},
   "outputs": [
    {
     "data": {
      "text/html": [
       "<div>\n",
       "<style scoped>\n",
       "    .dataframe tbody tr th:only-of-type {\n",
       "        vertical-align: middle;\n",
       "    }\n",
       "\n",
       "    .dataframe tbody tr th {\n",
       "        vertical-align: top;\n",
       "    }\n",
       "\n",
       "    .dataframe thead th {\n",
       "        text-align: right;\n",
       "    }\n",
       "</style>\n",
       "<table border=\"1\" class=\"dataframe\">\n",
       "  <thead>\n",
       "    <tr style=\"text-align: right;\">\n",
       "      <th></th>\n",
       "      <th>Gene</th>\n",
       "      <th>Name</th>\n",
       "      <th>Stability</th>\n",
       "      <th>UTR5</th>\n",
       "      <th>ORF</th>\n",
       "      <th>UTR3</th>\n",
       "      <th>Length</th>\n",
       "      <th>Exons</th>\n",
       "    </tr>\n",
       "  </thead>\n",
       "  <tbody>\n",
       "    <tr>\n",
       "      <th>10774</th>\n",
       "      <td>ENSG00000255072</td>\n",
       "      <td>PIGY</td>\n",
       "      <td>7.087454</td>\n",
       "      <td>0</td>\n",
       "      <td>0</td>\n",
       "      <td>0</td>\n",
       "      <td>0</td>\n",
       "      <td>2.172556</td>\n",
       "    </tr>\n",
       "  </tbody>\n",
       "</table>\n",
       "</div>"
      ],
      "text/plain": [
       "                  Gene  Name  Stability  UTR5  ORF  UTR3  Length     Exons\n",
       "10774  ENSG00000255072  PIGY   7.087454     0    0     0       0  2.172556"
      ]
     },
     "execution_count": 21,
     "metadata": {},
     "output_type": "execute_result"
    }
   ],
   "source": [
    "# check for zero length ORF genes\n",
    "stability_df[stability_df.ORF==0]"
   ]
  },
  {
   "cell_type": "markdown",
   "metadata": {},
   "source": [
    "PIGY/PYURF seems to be a case of two separate genes that should be considered isoforms of the same gene."
   ]
  },
  {
   "cell_type": "code",
   "execution_count": 22,
   "metadata": {},
   "outputs": [],
   "source": [
    "# remove zero length ORF genes\n",
    "stability_df = stability_df[stability_df.ORF>0]"
   ]
  },
  {
   "cell_type": "code",
   "execution_count": 23,
   "metadata": {},
   "outputs": [
    {
     "name": "stdout",
     "output_type": "stream",
     "text": [
      "(70, 8)\n"
     ]
    },
    {
     "data": {
      "text/html": [
       "<div>\n",
       "<style scoped>\n",
       "    .dataframe tbody tr th:only-of-type {\n",
       "        vertical-align: middle;\n",
       "    }\n",
       "\n",
       "    .dataframe tbody tr th {\n",
       "        vertical-align: top;\n",
       "    }\n",
       "\n",
       "    .dataframe thead th {\n",
       "        text-align: right;\n",
       "    }\n",
       "</style>\n",
       "<table border=\"1\" class=\"dataframe\">\n",
       "  <thead>\n",
       "    <tr style=\"text-align: right;\">\n",
       "      <th></th>\n",
       "      <th>Gene</th>\n",
       "      <th>Name</th>\n",
       "      <th>Stability</th>\n",
       "      <th>UTR5</th>\n",
       "      <th>ORF</th>\n",
       "      <th>UTR3</th>\n",
       "      <th>Length</th>\n",
       "      <th>Exons</th>\n",
       "    </tr>\n",
       "  </thead>\n",
       "  <tbody>\n",
       "    <tr>\n",
       "      <th>7569</th>\n",
       "      <td>ENSG00000168255</td>\n",
       "      <td>POLR2J3</td>\n",
       "      <td>17.822540</td>\n",
       "      <td>132</td>\n",
       "      <td>823</td>\n",
       "      <td>0</td>\n",
       "      <td>955</td>\n",
       "      <td>2.929164</td>\n",
       "    </tr>\n",
       "    <tr>\n",
       "      <th>11008</th>\n",
       "      <td>ENSG00000267740</td>\n",
       "      <td>AC024592.3</td>\n",
       "      <td>15.790490</td>\n",
       "      <td>0</td>\n",
       "      <td>506</td>\n",
       "      <td>0</td>\n",
       "      <td>506</td>\n",
       "      <td>2.496809</td>\n",
       "    </tr>\n",
       "    <tr>\n",
       "      <th>10272</th>\n",
       "      <td>ENSG00000214954</td>\n",
       "      <td>LRRC69</td>\n",
       "      <td>14.435017</td>\n",
       "      <td>0</td>\n",
       "      <td>1044</td>\n",
       "      <td>0</td>\n",
       "      <td>1044</td>\n",
       "      <td>2.651415</td>\n",
       "    </tr>\n",
       "    <tr>\n",
       "      <th>2983</th>\n",
       "      <td>ENSG00000115919</td>\n",
       "      <td>KYNU</td>\n",
       "      <td>13.554290</td>\n",
       "      <td>178</td>\n",
       "      <td>1398</td>\n",
       "      <td>0</td>\n",
       "      <td>1576</td>\n",
       "      <td>3.067572</td>\n",
       "    </tr>\n",
       "    <tr>\n",
       "      <th>3644</th>\n",
       "      <td>ENSG00000124657</td>\n",
       "      <td>OR2B6</td>\n",
       "      <td>13.268352</td>\n",
       "      <td>0</td>\n",
       "      <td>942</td>\n",
       "      <td>0</td>\n",
       "      <td>942</td>\n",
       "      <td>1.034408</td>\n",
       "    </tr>\n",
       "    <tr>\n",
       "      <th>2770</th>\n",
       "      <td>ENSG00000113396</td>\n",
       "      <td>SLC27A6</td>\n",
       "      <td>11.879809</td>\n",
       "      <td>434</td>\n",
       "      <td>1860</td>\n",
       "      <td>0</td>\n",
       "      <td>2294</td>\n",
       "      <td>2.325941</td>\n",
       "    </tr>\n",
       "    <tr>\n",
       "      <th>3010</th>\n",
       "      <td>ENSG00000116161</td>\n",
       "      <td>CACYBP</td>\n",
       "      <td>10.787287</td>\n",
       "      <td>0</td>\n",
       "      <td>243</td>\n",
       "      <td>0</td>\n",
       "      <td>243</td>\n",
       "      <td>2.974895</td>\n",
       "    </tr>\n",
       "    <tr>\n",
       "      <th>733</th>\n",
       "      <td>ENSG00000069431</td>\n",
       "      <td>ABCC9</td>\n",
       "      <td>10.746140</td>\n",
       "      <td>0</td>\n",
       "      <td>4650</td>\n",
       "      <td>0</td>\n",
       "      <td>4650</td>\n",
       "      <td>2.870540</td>\n",
       "    </tr>\n",
       "  </tbody>\n",
       "</table>\n",
       "</div>"
      ],
      "text/plain": [
       "                  Gene        Name  Stability  UTR5   ORF  UTR3  Length  \\\n",
       "7569   ENSG00000168255     POLR2J3  17.822540   132   823     0     955   \n",
       "11008  ENSG00000267740  AC024592.3  15.790490     0   506     0     506   \n",
       "10272  ENSG00000214954      LRRC69  14.435017     0  1044     0    1044   \n",
       "2983   ENSG00000115919        KYNU  13.554290   178  1398     0    1576   \n",
       "3644   ENSG00000124657       OR2B6  13.268352     0   942     0     942   \n",
       "2770   ENSG00000113396     SLC27A6  11.879809   434  1860     0    2294   \n",
       "3010   ENSG00000116161      CACYBP  10.787287     0   243     0     243   \n",
       "733    ENSG00000069431       ABCC9  10.746140     0  4650     0    4650   \n",
       "\n",
       "          Exons  \n",
       "7569   2.929164  \n",
       "11008  2.496809  \n",
       "10272  2.651415  \n",
       "2983   3.067572  \n",
       "3644   1.034408  \n",
       "2770   2.325941  \n",
       "3010   2.974895  \n",
       "733    2.870540  "
      ]
     },
     "execution_count": 23,
     "metadata": {},
     "output_type": "execute_result"
    }
   ],
   "source": [
    "# check for zero length 3' UTR genes\n",
    "print(stability_df[stability_df.UTR3==0].shape)\n",
    "stability_df[stability_df.UTR3==0].sort_values('Stability', ascending=False).head(8)"
   ]
  },
  {
   "cell_type": "code",
   "execution_count": 24,
   "metadata": {},
   "outputs": [
    {
     "name": "stdout",
     "output_type": "stream",
     "text": [
      "(167, 8)\n"
     ]
    },
    {
     "data": {
      "text/html": [
       "<div>\n",
       "<style scoped>\n",
       "    .dataframe tbody tr th:only-of-type {\n",
       "        vertical-align: middle;\n",
       "    }\n",
       "\n",
       "    .dataframe tbody tr th {\n",
       "        vertical-align: top;\n",
       "    }\n",
       "\n",
       "    .dataframe thead th {\n",
       "        text-align: right;\n",
       "    }\n",
       "</style>\n",
       "<table border=\"1\" class=\"dataframe\">\n",
       "  <thead>\n",
       "    <tr style=\"text-align: right;\">\n",
       "      <th></th>\n",
       "      <th>Gene</th>\n",
       "      <th>Name</th>\n",
       "      <th>Stability</th>\n",
       "      <th>UTR5</th>\n",
       "      <th>ORF</th>\n",
       "      <th>UTR3</th>\n",
       "      <th>Length</th>\n",
       "      <th>Exons</th>\n",
       "    </tr>\n",
       "  </thead>\n",
       "  <tbody>\n",
       "    <tr>\n",
       "      <th>8947</th>\n",
       "      <td>ENSG00000183688</td>\n",
       "      <td>RFLNB</td>\n",
       "      <td>30.536655</td>\n",
       "      <td>0</td>\n",
       "      <td>435</td>\n",
       "      <td>3186</td>\n",
       "      <td>3621</td>\n",
       "      <td>2.156386</td>\n",
       "    </tr>\n",
       "    <tr>\n",
       "      <th>8715</th>\n",
       "      <td>ENSG00000180815</td>\n",
       "      <td>MAP3K15</td>\n",
       "      <td>25.957153</td>\n",
       "      <td>0</td>\n",
       "      <td>3942</td>\n",
       "      <td>70</td>\n",
       "      <td>4012</td>\n",
       "      <td>2.884441</td>\n",
       "    </tr>\n",
       "    <tr>\n",
       "      <th>10473</th>\n",
       "      <td>ENSG00000233822</td>\n",
       "      <td>H2BC15</td>\n",
       "      <td>18.594810</td>\n",
       "      <td>0</td>\n",
       "      <td>381</td>\n",
       "      <td>51</td>\n",
       "      <td>432</td>\n",
       "      <td>2.461707</td>\n",
       "    </tr>\n",
       "    <tr>\n",
       "      <th>6650</th>\n",
       "      <td>ENSG00000161939</td>\n",
       "      <td>RNASEK-C17orf49</td>\n",
       "      <td>17.777900</td>\n",
       "      <td>0</td>\n",
       "      <td>701</td>\n",
       "      <td>199</td>\n",
       "      <td>900</td>\n",
       "      <td>3.182766</td>\n",
       "    </tr>\n",
       "    <tr>\n",
       "      <th>1436</th>\n",
       "      <td>ENSG00000099904</td>\n",
       "      <td>ZDHHC8</td>\n",
       "      <td>16.497940</td>\n",
       "      <td>0</td>\n",
       "      <td>2022</td>\n",
       "      <td>1050</td>\n",
       "      <td>3072</td>\n",
       "      <td>2.195450</td>\n",
       "    </tr>\n",
       "    <tr>\n",
       "      <th>11008</th>\n",
       "      <td>ENSG00000267740</td>\n",
       "      <td>AC024592.3</td>\n",
       "      <td>15.790490</td>\n",
       "      <td>0</td>\n",
       "      <td>506</td>\n",
       "      <td>0</td>\n",
       "      <td>506</td>\n",
       "      <td>2.496809</td>\n",
       "    </tr>\n",
       "    <tr>\n",
       "      <th>10939</th>\n",
       "      <td>ENSG00000261884</td>\n",
       "      <td>AC040162.1</td>\n",
       "      <td>15.440990</td>\n",
       "      <td>0</td>\n",
       "      <td>233</td>\n",
       "      <td>340</td>\n",
       "      <td>573</td>\n",
       "      <td>2.496809</td>\n",
       "    </tr>\n",
       "    <tr>\n",
       "      <th>10272</th>\n",
       "      <td>ENSG00000214954</td>\n",
       "      <td>LRRC69</td>\n",
       "      <td>14.435017</td>\n",
       "      <td>0</td>\n",
       "      <td>1044</td>\n",
       "      <td>0</td>\n",
       "      <td>1044</td>\n",
       "      <td>2.651415</td>\n",
       "    </tr>\n",
       "  </tbody>\n",
       "</table>\n",
       "</div>"
      ],
      "text/plain": [
       "                  Gene             Name  Stability  UTR5   ORF  UTR3  Length  \\\n",
       "8947   ENSG00000183688            RFLNB  30.536655     0   435  3186    3621   \n",
       "8715   ENSG00000180815          MAP3K15  25.957153     0  3942    70    4012   \n",
       "10473  ENSG00000233822           H2BC15  18.594810     0   381    51     432   \n",
       "6650   ENSG00000161939  RNASEK-C17orf49  17.777900     0   701   199     900   \n",
       "1436   ENSG00000099904           ZDHHC8  16.497940     0  2022  1050    3072   \n",
       "11008  ENSG00000267740       AC024592.3  15.790490     0   506     0     506   \n",
       "10939  ENSG00000261884       AC040162.1  15.440990     0   233   340     573   \n",
       "10272  ENSG00000214954           LRRC69  14.435017     0  1044     0    1044   \n",
       "\n",
       "          Exons  \n",
       "8947   2.156386  \n",
       "8715   2.884441  \n",
       "10473  2.461707  \n",
       "6650   3.182766  \n",
       "1436   2.195450  \n",
       "11008  2.496809  \n",
       "10939  2.496809  \n",
       "10272  2.651415  "
      ]
     },
     "execution_count": 24,
     "metadata": {},
     "output_type": "execute_result"
    }
   ],
   "source": [
    "# check for zero length 5' UTR genes\n",
    "print(stability_df[stability_df.UTR5==0].shape)\n",
    "stability_df[stability_df.UTR5==0].sort_values('Stability', ascending=False).head(8)"
   ]
  },
  {
   "cell_type": "markdown",
   "metadata": {},
   "source": [
    "## Choose length thresholds"
   ]
  },
  {
   "cell_type": "code",
   "execution_count": 25,
   "metadata": {},
   "outputs": [
    {
     "data": {
      "text/plain": [
       "<seaborn.axisgrid.FacetGrid at 0x7f25cc64f7c0>"
      ]
     },
     "execution_count": 25,
     "metadata": {},
     "output_type": "execute_result"
    },
    {
     "data": {
      "image/png": "[encoded data removed]",
      "text/plain": [
       "<Figure size 360x360 with 1 Axes>"
      ]
     },
     "metadata": {
      "needs_background": "light"
     },
     "output_type": "display_data"
    }
   ],
   "source": [
    "# plot 5'UTR distribution\n",
    "sns.displot(np.log2(1+stability_df.UTR5))"
   ]
  },
  {
   "cell_type": "code",
   "execution_count": 26,
   "metadata": {},
   "outputs": [
    {
     "data": {
      "text/plain": [
       "(2048, 0.9986665396704448)"
      ]
     },
     "execution_count": 26,
     "metadata": {},
     "output_type": "execute_result"
    }
   ],
   "source": [
    "# choose threshold\n",
    "utr5_len_t = 2**11\n",
    "utr5_len_t, (stability_df.UTR5<utr5_len_t).mean()"
   ]
  },
  {
   "cell_type": "code",
   "execution_count": 27,
   "metadata": {},
   "outputs": [
    {
     "data": {
      "text/plain": [
       "<seaborn.axisgrid.FacetGrid at 0x7f26301107f0>"
      ]
     },
     "execution_count": 27,
     "metadata": {},
     "output_type": "execute_result"
    },
    {
     "data": {
      "image/png": "[encoded data removed]",
      "text/plain": [
       "<Figure size 360x360 with 1 Axes>"
      ]
     },
     "metadata": {
      "needs_background": "light"
     },
     "output_type": "display_data"
    }
   ],
   "source": [
    "# plot 3'UTR distribution\n",
    "sns.displot(np.log2(1+stability_df.UTR3))"
   ]
  },
  {
   "cell_type": "code",
   "execution_count": 28,
   "metadata": {},
   "outputs": [
    {
     "data": {
      "text/plain": [
       "(12288, 13.584962500721156, 0.9970473378416992)"
      ]
     },
     "execution_count": 28,
     "metadata": {},
     "output_type": "execute_result"
    }
   ],
   "source": [
    "# choose threshold\n",
    "utr3_len_t = 3*2**12\n",
    "utr3_len_t, np.log2(utr3_len_t), (stability_df.UTR3<utr3_len_t).mean()"
   ]
  },
  {
   "cell_type": "code",
   "execution_count": 29,
   "metadata": {},
   "outputs": [
    {
     "data": {
      "text/plain": [
       "<seaborn.axisgrid.FacetGrid at 0x7f25cc57f670>"
      ]
     },
     "execution_count": 29,
     "metadata": {},
     "output_type": "execute_result"
    },
    {
     "data": {
      "image/png": "[encoded data removed]",
      "text/plain": [
       "<Figure size 360x360 with 1 Axes>"
      ]
     },
     "metadata": {
      "needs_background": "light"
     },
     "output_type": "display_data"
    }
   ],
   "source": [
    "# plot ORF distribution\n",
    "sns.displot(np.log2(1+stability_df.ORF))"
   ]
  },
  {
   "cell_type": "code",
   "execution_count": 30,
   "metadata": {},
   "outputs": [
    {
     "data": {
      "text/plain": [
       "(12288, 13.584962500721156, 0.9967615963425088)"
      ]
     },
     "execution_count": 30,
     "metadata": {},
     "output_type": "execute_result"
    }
   ],
   "source": [
    "# choose threshold\n",
    "cds_len_t = 3*2**12\n",
    "cds_len_t, np.log2(cds_len_t), (stability_df.ORF<cds_len_t).mean()"
   ]
  },
  {
   "cell_type": "code",
   "execution_count": 31,
   "metadata": {},
   "outputs": [
    {
     "data": {
      "text/plain": [
       "<seaborn.axisgrid.FacetGrid at 0x7f25ccdbf3d0>"
      ]
     },
     "execution_count": 31,
     "metadata": {},
     "output_type": "execute_result"
    },
    {
     "data": {
      "image/png": "[encoded data removed]",
      "text/plain": [
       "<Figure size 360x360 with 1 Axes>"
      ]
     },
     "metadata": {
      "needs_background": "light"
     },
     "output_type": "display_data"
    }
   ],
   "source": [
    "# plot full length distribution\n",
    "sns.displot(np.log2(1+stability_df.Length))"
   ]
  },
  {
   "cell_type": "code",
   "execution_count": 32,
   "metadata": {},
   "outputs": [
    {
     "data": {
      "text/plain": [
       "(16384, 14.0, 0.9969520906753024)"
      ]
     },
     "execution_count": 32,
     "metadata": {},
     "output_type": "execute_result"
    }
   ],
   "source": [
    "# choose threshold\n",
    "full_len_t = 2**14\n",
    "full_len_t, np.log2(full_len_t), (stability_df.Length<full_len_t).mean()"
   ]
  },
  {
   "cell_type": "markdown",
   "metadata": {},
   "source": [
    "## Training data"
   ]
  },
  {
   "cell_type": "code",
   "execution_count": 33,
   "metadata": {},
   "outputs": [],
   "source": [
    "# divide into folds\n",
    "\n",
    "num_folds = 5\n",
    "num_genes = stability_df.shape[0]\n",
    "fold_genes = num_genes // num_folds\n",
    "\n",
    "folds_num = [fold_genes]*(num_folds-1)\n",
    "fold_final_genes = num_genes - fold_genes*(num_folds-1)\n",
    "folds_num.append(fold_final_genes)\n",
    "\n",
    "gene_folds = []\n",
    "for fi in range(num_folds):\n",
    "    gene_folds += [fi]*folds_num[fi]\n",
    "gene_folds = np.array(gene_folds)\n",
    "np.random.shuffle(gene_folds)\n",
    "\n",
    "fold_masks = []\n",
    "for fi in range(num_folds):\n",
    "    fold_masks.append(gene_folds == fi)"
   ]
  },
  {
   "cell_type": "code",
   "execution_count": 34,
   "metadata": {},
   "outputs": [],
   "source": [
    "def feature_bytes(values):\n",
    "    \"\"\"Convert numpy arrays to bytes features.\"\"\"\n",
    "    values = values.flatten().tostring()\n",
    "    return tf.train.Feature(bytes_list=tf.train.BytesList(value=[values]))\n",
    "\n",
    "def tfr_feature_ints(int_list):\n",
    "    return tf.train.Feature(int64_list=tf.train.Int64List(value=int_list))\n",
    "def tfr_feature_dna(seq_1hot):\n",
    "    seq_indexes = np.where(seq_1hot)[1].astype('uint8')\n",
    "    seq_indexes = seq_indexes.tostring()\n",
    "    return tf.train.Feature(bytes_list=tf.train.BytesList(value=[seq_indexes]))\n",
    "def tfr_feature_targets(targets):\n",
    "    targets = targets.astype('float16')\n",
    "    targets = targets.tostring()\n",
    "    return tf.train.Feature(bytes_list=tf.train.BytesList(value=[targets]))"
   ]
  },
  {
   "cell_type": "code",
   "execution_count": 35,
   "metadata": {},
   "outputs": [],
   "source": [
    "def write_fold(fold_index, out_dir, seqs_per_tfr=128, pseudocount=0.125):\n",
    "    \"\"\"Write a cross-validation fold's TFRecords.\"\"\"\n",
    "    tf_opts = tf.io.TFRecordOptions(compression_type='ZLIB')\n",
    "    \n",
    "    # slice fold's genes\n",
    "    fold_df = stability_df[fold_masks[fold_index]]\n",
    "    \n",
    "    gi = 0\n",
    "    num_tfr = int(np.ceil(fold_df.shape[0] / seqs_per_tfr))\n",
    "    for fi in range(num_tfr):\n",
    "        tfr_file = '%s/fold%d-%d.tfr' % (out_dir,fold_index,fi)\n",
    "        with tf.io.TFRecordWriter(tfr_file, tf_opts) as writer:\n",
    "            for ti in range(seqs_per_tfr):\n",
    "                if gi < fold_df.shape[0]:\n",
    "                    sgene = fold_df.iloc[gi]\n",
    "                    gene_id = sgene.Gene\n",
    "\n",
    "                    # utr5\n",
    "                    if gene_id in gene_utr5:        \n",
    "                        gene_utr5_1hot = dna_io.dna_1hot(gene_utr5[gene_id])\n",
    "                        if gene_utr5_1hot.shape[0] > utr5_len_t:\n",
    "                            gene_utr5_1hot = gene_utr5_1hot[-utr5_len_t:]\n",
    "                    else:\n",
    "                        gene_utr5_1hot = np.zeros((0,4), dtype='bool')\n",
    "\n",
    "                    # cds\n",
    "                    if gene_id in gene_orf:        \n",
    "                        gene_cds_1hot = dna_io.dna_1hot(gene_orf[gene_id])\n",
    "                        if gene_cds_1hot.shape[0] > cds_len_t:\n",
    "                            li = (gene_cds_1hot.shape[0] - cds_len_t) // 2\n",
    "                            gene_cds_1hot = gene_cds_1hot[li:li+cds_len_t]\n",
    "                    else:\n",
    "                        gene_cds_1hot = np.zeros((0,4), dtype='bool')\n",
    "\n",
    "                    # utr3\n",
    "                    if gene_id in gene_utr3:        \n",
    "                        gene_utr3_1hot = dna_io.dna_1hot(gene_utr3[gene_id])\n",
    "                        if gene_utr3_1hot.shape[0] > utr3_len_t:\n",
    "                            li = (gene_utr3_1hot.shape[0] - utr3_len_t)\n",
    "                            gene_utr3_1hot = gene_utr3_1hot[:utr3_len_t]\n",
    "                    else:\n",
    "                        gene_utr3_1hot = np.zeros((0,4), dtype='bool')\n",
    "                        \n",
    "                    # features\n",
    "                    gene_features = np.array([sgene.Exons])\n",
    "\n",
    "                    # targets\n",
    "                    targets = np.log2(sgene.Stability + pseudocount)\n",
    "\n",
    "                    # hash to bytes\n",
    "                    seq_lengths = [gene_utr5_1hot.shape[0], gene_cds_1hot.shape[0], gene_utr3_1hot.shape[0]]\n",
    "                    features_dict = {\n",
    "                        'lengths': tfr_feature_ints(seq_lengths),\n",
    "                        'utr3': tfr_feature_dna(gene_utr3_1hot),\n",
    "                        'cds': tfr_feature_dna(gene_cds_1hot),\n",
    "                        'utr5': tfr_feature_dna(gene_utr5_1hot),\n",
    "                        'features': tfr_feature_targets(gene_features),\n",
    "                        'targets': tfr_feature_targets(targets)\n",
    "                    }\n",
    "\n",
    "                    # write example\n",
    "                    example = tf.train.Example(features=tf.train.Features(feature=features_dict))\n",
    "                    writer.write(example.SerializeToString())\n",
    "                \n",
    "                    # next gene\n",
    "                    gi += 1"
   ]
  },
  {
   "cell_type": "code",
   "execution_count": 36,
   "metadata": {},
   "outputs": [
    {
     "name": "stderr",
     "output_type": "stream",
     "text": [
      "<ipython-input-34-13d201adb886>:10: DeprecationWarning: tostring() is deprecated. Use tobytes() instead.\n",
      "  seq_indexes = seq_indexes.tostring()\n",
      "<ipython-input-34-13d201adb886>:14: DeprecationWarning: tostring() is deprecated. Use tobytes() instead.\n",
      "  targets = targets.tostring()\n"
     ]
    }
   ],
   "source": [
    "################################################################\n",
    "# output directory\n",
    "\n",
    "out_dir = 'data_cv'\n",
    "if os.path.isdir(out_dir):\n",
    "    shutil.rmtree(out_dir)\n",
    "os.mkdir(out_dir)\n",
    "\n",
    "################################################################\n",
    "# stats\n",
    "stats_dict = {}\n",
    "stats_dict['num_targets'] = 1\n",
    "stats_dict['target_length'] = 1\n",
    "stats_dict['num_features'] = 1\n",
    "\n",
    "stats_dict['length_utr5'] = utr5_len_t\n",
    "stats_dict['length_cds'] = cds_len_t\n",
    "stats_dict['length_utr3'] = utr3_len_t\n",
    "stats_dict['length_full'] = full_len_t\n",
    "\n",
    "stats_dict['num_folds'] = num_folds\n",
    "for fi in range(num_folds):\n",
    "    stats_dict['fold%d_seqs' % fi] = folds_num[fi]\n",
    "\n",
    "with open('%s/statistics.json' % out_dir, 'w') as stats_json_out:\n",
    "    json.dump(stats_dict, stats_json_out, indent=4)\n",
    "\n",
    "################################################################\n",
    "# write tfrecords\n",
    "\n",
    "tfrecords_dir = '%s/tfrecords' % out_dir\n",
    "os.mkdir(tfrecords_dir)\n",
    "for fi in range(num_folds):\n",
    "    write_fold(fi, tfrecords_dir)"
   ]
  }
 ],
 "metadata": {
  "kernelspec": {
   "display_name": "Python 3",
   "language": "python",
   "name": "python3"
  },
  "language_info": {
   "codemirror_mode": {
    "name": "ipython",
    "version": 3
   },
   "file_extension": ".py",
   "mimetype": "text/x-python",
   "name": "python",
   "nbconvert_exporter": "python",
   "pygments_lexer": "ipython3",
   "version": "3.8.3"
  }
 },
 "nbformat": 4,
 "nbformat_minor": 4
}
